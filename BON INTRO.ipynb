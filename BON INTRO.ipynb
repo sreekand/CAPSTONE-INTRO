{
 "cells": [
  {
   "cell_type": "markdown",
   "metadata": {
    "collapsed": true
   },
   "source": [
    "FINAL CAPSTONE PROJECT-COURSERA- BATTLE OF NEIGHBOURHOODS\n",
    "Submitted by\n",
    "\n",
    "SREEKAND BOSE\n",
    "Introduction\n",
    "\n",
    "The project deals with upcoming restaurants and the search of an upcoming restaurant location in the proximities of London. As London is a mix of various culture like asian,african and other european nationals there is a wide variety of food points everywhere. As if there are various cuisines in every nook and corner ,we can still check if there are enough Indian restaurants which are focused on north indian, south indian ,east indian,kashmiri and chinese mixed dishes.\n",
    "\n",
    "PROBLEM\n",
    "\n",
    "A large group of south indians are residing in London and they find it difficult to dinein in to a restaurent of their taste.so through this project we can help them to identify a proper location to setup a new restaurant based on their current amenities. Our data from Four square helps a lot to identify an affordable and convenient location where other restaurants are not a hindrance for their growth while taking the business on a long term vision.\n",
    "\n",
    "Target Audience\n",
    "\n",
    "The most targeted audiences are the South indians who resides in the downtown of London. As their need is to setup a diverse restaurant with wide variety of menu including european style mix with chinese and other asian dishes the audiences become more broader and the data driven can help most of the people who wants to start a restaurant or food corner."
   ]
  },
  {
   "cell_type": "code",
   "execution_count": null,
   "metadata": {},
   "outputs": [],
   "source": []
  }
 ],
 "metadata": {
  "kernelspec": {
   "display_name": "Python 3.6",
   "language": "python",
   "name": "python3"
  },
  "language_info": {
   "codemirror_mode": {
    "name": "ipython",
    "version": 3
   },
   "file_extension": ".py",
   "mimetype": "text/x-python",
   "name": "python",
   "nbconvert_exporter": "python",
   "pygments_lexer": "ipython3",
   "version": "3.6.9"
  }
 },
 "nbformat": 4,
 "nbformat_minor": 1
}
